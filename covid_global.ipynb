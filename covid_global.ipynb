{
 "cells": [
  {
   "cell_type": "code",
   "execution_count": 1,
   "metadata": {},
   "outputs": [],
   "source": [
    "import requests\n",
    "from bs4 import BeautifulSoup"
   ]
  },
  {
   "cell_type": "code",
   "execution_count": 2,
   "metadata": {},
   "outputs": [],
   "source": [
    "url  = \"https://www.worldometers.info/coronavirus/\"\n",
    "r    = requests.get(url)\n",
    "t    = BeautifulSoup(r.text, \"html.parser\")\n",
    "data = t.find_all(\"div\", class_ = \"maincounter-number\")"
   ]
  },
  {
   "cell_type": "code",
   "execution_count": 3,
   "metadata": {},
   "outputs": [
    {
     "name": "stdout",
     "output_type": "stream",
     "text": [
      "Total Cases     :  1,538,486\n",
      "Total Deaths    :  89,975\n",
      "Total Recovered :  340,521\n"
     ]
    }
   ],
   "source": [
    "print(\"Total Cases     : \", data[0].text.strip())\n",
    "print(\"Total Deaths    : \", data[1].text.strip())\n",
    "print(\"Total Recovered : \", data[2].text.strip())"
   ]
  },
  {
   "cell_type": "code",
   "execution_count": 4,
   "metadata": {},
   "outputs": [],
   "source": [
    "url_thai = \"https://www.worldometers.info/coronavirus/country/thailand/\"\n",
    "r_thai   = requests.get(url_thai)\n",
    "t_thai   = BeautifulSoup(r_thai.text, \"html.parser\")\n",
    "data_t   = t_thai.find_all(\"div\", class_ = \"maincounter-number\")"
   ]
  },
  {
   "cell_type": "code",
   "execution_count": 5,
   "metadata": {},
   "outputs": [
    {
     "name": "stdout",
     "output_type": "stream",
     "text": [
      "ยอดผู้ปวยทั้งหมด    :  2,423\n",
      "ยอดผู้เสียชีวิต      :  32\n",
      "ยอดผู้ที่รักษาหายแล้ว :  940\n"
     ]
    }
   ],
   "source": [
    "print(\"ยอดผู้ปวยทั้งหมด    : \", data_t[0].text.strip())\n",
    "print(\"ยอดผู้เสียชีวิต      : \", data_t[1].text.strip())\n",
    "print(\"ยอดผู้ที่รักษาหายแล้ว : \", data_t[2].text.strip())"
   ]
  },
  {
   "cell_type": "markdown",
   "metadata": {},
   "source": [
    "# StayHome"
   ]
  }
 ],
 "metadata": {
  "kernelspec": {
   "display_name": "Python 3",
   "language": "python",
   "name": "python3"
  },
  "language_info": {
   "codemirror_mode": {
    "name": "ipython",
    "version": 3
   },
   "file_extension": ".py",
   "mimetype": "text/x-python",
   "name": "python",
   "nbconvert_exporter": "python",
   "pygments_lexer": "ipython3",
   "version": "3.7.6"
  }
 },
 "nbformat": 4,
 "nbformat_minor": 4
}
